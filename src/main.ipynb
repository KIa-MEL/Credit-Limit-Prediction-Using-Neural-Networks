{
 "cells": [
  {
   "cell_type": "code",
   "execution_count": 82,
   "metadata": {},
   "outputs": [],
   "source": [
    "import torch\n",
    "import torch.nn as nn\n",
    "import pandas as pd\n",
    "import numpy as np\n",
    "import matplotlib.pyplot as plt\n",
    "from sklearn.model_selection import train_test_split, StratifiedKFold\n",
    "from sklearn.preprocessing import StandardScaler\n",
    "from sklearn.feature_selection import SelectKBest\n",
    "from sklearn.feature_selection import mutual_info_regression\n",
    "from sklearn.experimental import enable_iterative_imputer\n",
    "from sklearn.impute import IterativeImputer, SimpleImputer\n",
    "from sklearn.compose import ColumnTransformer\n",
    "from sklearn.pipeline import Pipeline\n",
    "from sklearn.preprocessing import OneHotEncoder\n",
    "\n"
   ]
  },
  {
   "cell_type": "markdown",
   "metadata": {},
   "source": [
    "## **The dataset is shown below:**"
   ]
  },
  {
   "cell_type": "code",
   "execution_count": 147,
   "metadata": {},
   "outputs": [],
   "source": [
    "data_df = pd.read_csv('../data/CreditPrediction.csv')\n",
    "# removing duplicated datas\n",
    "data_no_dup = data_df.drop_duplicates() "
   ]
  },
  {
   "cell_type": "code",
   "execution_count": 148,
   "metadata": {},
   "outputs": [],
   "source": [
    "def fix_missing_values(df):\n",
    "    # Identify numerical and categorical columns\n",
    "    num_cols = df.select_dtypes(exclude='object').columns\n",
    "    cat_cols = df.select_dtypes(include='object').columns\n",
    "\n",
    "    # Create transformers for numerical and categorical data\n",
    "    num_transformer = IterativeImputer()\n",
    "    cat_transformer = Pipeline(steps=[\n",
    "        ('imputer', SimpleImputer(strategy='most_frequent')),\n",
    "        ('onehot', OneHotEncoder(handle_unknown='ignore'))\n",
    "    ])\n",
    "\n",
    "    # Combine transformers into a ColumnTransformer\n",
    "    preprocessor = ColumnTransformer(\n",
    "        transformers=[\n",
    "            ('num', num_transformer, num_cols),\n",
    "            ('cat', cat_transformer, cat_cols)\n",
    "        ]\n",
    "    )\n",
    "\n",
    "    # Apply the transformations\n",
    "    preprocessed_data = preprocessor.fit_transform(data_no_dup)\n",
    "\n",
    "    # Convert the result back to a DataFrame (optional)\n",
    "    preprocessed_df = pd.DataFrame(preprocessed_data)\n",
    "\n",
    "    # Display the preprocessed DataFrame\n",
    "    return preprocessed_df"
   ]
  },
  {
   "cell_type": "code",
   "execution_count": 138,
   "metadata": {},
   "outputs": [
    {
     "name": "stderr",
     "output_type": "stream",
     "text": [
      "c:\\Users\\Kianoosh\\anaconda3\\envs\\pytorch\\Lib\\site-packages\\sklearn\\impute\\_base.py:597: UserWarning: Skipping features without any observed values: [13]. At least one non-missing value is needed for imputation with strategy='mean'.\n",
      "  warnings.warn(\n"
     ]
    }
   ],
   "source": [
    "X = data_no_dup.drop('Credit_Limit', axis=1)\n",
    "y = data_no_dup['Credit_Limit']\n",
    "\n",
    "X = fix_missing_values(X)\n"
   ]
  },
  {
   "cell_type": "code",
   "execution_count": 139,
   "metadata": {},
   "outputs": [],
   "source": [
    "X_train, X_test, y_train, y_test = train_test_split(X, y, test_size=0.33, random_state=0)\n",
    "scaler = StandardScaler()\n",
    "\n",
    "X_train = scaler.fit_transform(X_train)\n",
    "X_test = scaler.transform(X_test)"
   ]
  },
  {
   "cell_type": "code",
   "execution_count": 144,
   "metadata": {},
   "outputs": [
    {
     "name": "stdout",
     "output_type": "stream",
     "text": [
      "Feature 0: 0.000000\n",
      "Feature 1: 0.010283\n",
      "Feature 2: 0.000000\n",
      "Feature 3: 0.000000\n",
      "Feature 4: 0.006195\n",
      "Feature 5: 0.002232\n",
      "Feature 6: 0.001140\n",
      "Feature 7: 0.138877\n",
      "Feature 8: 0.014241\n",
      "Feature 9: 0.115873\n",
      "Feature 10: 0.049153\n",
      "Feature 11: 0.005825\n",
      "Feature 12: 0.782106\n",
      "Feature 13: 0.119148\n",
      "Feature 14: 0.113249\n",
      "Feature 15: 0.006925\n",
      "Feature 16: 0.000000\n",
      "Feature 17: 0.000000\n",
      "Feature 18: 0.000482\n",
      "Feature 19: 0.000000\n",
      "Feature 20: 0.000000\n",
      "Feature 21: 0.004931\n",
      "Feature 22: 0.002604\n",
      "Feature 23: 0.001795\n",
      "Feature 24: 0.000000\n",
      "Feature 25: 0.000000\n",
      "Feature 26: 0.055697\n",
      "Feature 27: 0.027210\n",
      "Feature 28: 0.019845\n",
      "Feature 29: 0.047694\n",
      "Feature 30: 0.145378\n",
      "Feature 31: 0.004862\n",
      "Feature 32: 0.088856\n",
      "Feature 33: 0.030745\n",
      "Feature 34: 0.006917\n",
      "Feature 35: 0.068704\n",
      "11\n"
     ]
    },
    {
     "data": {
      "image/png": "[encoded data removed]",
      "text/plain": [
       "<Figure size 640x480 with 1 Axes>"
      ]
     },
     "metadata": {},
     "output_type": "display_data"
    }
   ],
   "source": [
    " \n",
    "# feature selection\n",
    "def select_features(X_train, y_train, X_test):\n",
    " # configure to select all features\n",
    " fs = SelectKBest(score_func=mutual_info_regression, k=26)\n",
    " # learn relationship from training data\n",
    " fs.fit(X_train, y_train)\n",
    " # transform train input data\n",
    " X_train_fs = fs.transform(X_train)\n",
    " # transform test input data\n",
    " X_test_fs = fs.transform(X_test)\n",
    " return X_train_fs, X_test_fs, fs\n",
    " \n",
    "# load the dataset\n",
    "# split into train and test sets\n",
    "# feature selection\n",
    "X_train_fs, X_test_fs, fs = select_features(X_train, y_train, X_test)\n",
    "# what are scores for the features\n",
    "ignr_cnt = 0\n",
    "for i in range(len(fs.scores_)):\n",
    " if (fs.scores_[i] < 0.0015):\n",
    "  ignr_cnt +=1\n",
    " print('Feature %d: %f' % (i, fs.scores_[i]))\n",
    "print(ignr_cnt)\n",
    "# plot the scores\n",
    "plt.bar([i for i in range(len(fs.scores_))], fs.scores_)\n",
    "plt.show()"
   ]
  },
  {
   "cell_type": "code",
   "execution_count": 2,
   "metadata": {},
   "outputs": [
    {
     "data": {
      "text/plain": [
       "4"
      ]
     },
     "execution_count": 2,
     "metadata": {},
     "output_type": "execute_result"
    }
   ],
   "source": [
    "4\n"
   ]
  },
  {
   "cell_type": "code",
   "execution_count": null,
   "metadata": {},
   "outputs": [],
   "source": []
  }
 ],
 "metadata": {
  "kernelspec": {
   "display_name": "Python 3",
   "language": "python",
   "name": "python3"
  },
  "language_info": {
   "codemirror_mode": {
    "name": "ipython",
    "version": 3
   },
   "file_extension": ".py",
   "mimetype": "text/x-python",
   "name": "python",
   "nbconvert_exporter": "python",
   "pygments_lexer": "ipython3",
   "version": "3.11.9"
  }
 },
 "nbformat": 4,
 "nbformat_minor": 2
}
